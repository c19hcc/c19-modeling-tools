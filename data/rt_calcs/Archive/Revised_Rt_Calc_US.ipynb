{
 "cells": [
  {
   "cell_type": "markdown",
   "metadata": {},
   "source": [
    "# Estimating COVID-19's $R_t$ in Real-Time with PYMC3\n",
    "### MITRE Revised version, United States (National) only\n",
    "\n",
    "Kevin Systrom - April 22\n",
    "\n",
    "Model originally built by [Thomas Vladeck](https://github.com/tvladeck) in Stan, parts inspired by the work over at https://epiforecasts.io/, lots of help from [Thomas Wiecki](https://twitter.com/twiecki). Thank you to everyone who helped.\n",
    "\n",
    "This notebook is a WIP - I'll add more context and commentary over the coming week."
   ]
  },
  {
   "cell_type": "code",
   "execution_count": 1,
   "metadata": {},
   "outputs": [],
   "source": [
    "# For some reason Theano is unhappy when I run the GP, need to disable future warnings\n",
    "import warnings\n",
    "warnings.simplefilter(action='ignore', category=FutureWarning)\n",
    "\n",
    "import os\n",
    "import requests\n",
    "import pymc3 as pm\n",
    "import pandas as pd\n",
    "import numpy as np\n",
    "import theano\n",
    "import theano.tensor as tt\n",
    "\n",
    "from matplotlib import pyplot as plt\n",
    "from matplotlib import dates as mdates\n",
    "from matplotlib import ticker\n",
    "\n",
    "from datetime import date\n",
    "from datetime import datetime\n",
    "\n",
    "from IPython.display import clear_output\n",
    "\n",
    "%config InlineBackend.figure_format = 'retina'"
   ]
  },
  {
   "cell_type": "markdown",
   "metadata": {},
   "source": [
    "## Load State Information\n",
    "#### Load"
   ]
  },
  {
   "cell_type": "code",
   "execution_count": 2,
   "metadata": {},
   "outputs": [],
   "source": [
    "import os\n",
    "import io"
   ]
  },
  {
   "cell_type": "code",
   "execution_count": 3,
   "metadata": {},
   "outputs": [],
   "source": [
    "url = 'https://covidtracking.com/api/v1/states/daily.csv'\n",
    "mitre_cert = './mitre_cert.crt'\n",
    "x = requests.get(url=url, verify=mitre_cert).content \n",
    "states = pd.read_csv(io.StringIO(x.decode('utf8')), \n",
    "                    parse_dates=['date'],index_col=['state', 'date']).sort_index()\n",
    "# states = pd.read_csv(url,\n",
    "#                      parse_dates=['date'],\n",
    "#                      index_col=['state', 'date']).sort_index()\n",
    "\n",
    "# Note: GU/AS/VI do not have enough data for this model to run\n",
    "# Note: PR had -384 change recently in total count so unable to model\n",
    "states = states.drop(['MP', 'GU', 'AS', 'PR', 'VI'])"
   ]
  },
  {
   "cell_type": "code",
   "execution_count": 4,
   "metadata": {},
   "outputs": [
    {
     "data": {
      "text/html": [
       "<div>\n",
       "<style scoped>\n",
       "    .dataframe tbody tr th:only-of-type {\n",
       "        vertical-align: middle;\n",
       "    }\n",
       "\n",
       "    .dataframe tbody tr th {\n",
       "        vertical-align: top;\n",
       "    }\n",
       "\n",
       "    .dataframe thead th {\n",
       "        text-align: right;\n",
       "    }\n",
       "</style>\n",
       "<table border=\"1\" class=\"dataframe\">\n",
       "  <thead>\n",
       "    <tr style=\"text-align: right;\">\n",
       "      <th></th>\n",
       "      <th></th>\n",
       "      <th>positive</th>\n",
       "      <th>negative</th>\n",
       "      <th>pending</th>\n",
       "      <th>hospitalizedCurrently</th>\n",
       "      <th>hospitalizedCumulative</th>\n",
       "      <th>inIcuCurrently</th>\n",
       "      <th>inIcuCumulative</th>\n",
       "      <th>onVentilatorCurrently</th>\n",
       "      <th>onVentilatorCumulative</th>\n",
       "      <th>recovered</th>\n",
       "      <th>...</th>\n",
       "      <th>hospitalized</th>\n",
       "      <th>total</th>\n",
       "      <th>totalTestResults</th>\n",
       "      <th>posNeg</th>\n",
       "      <th>fips</th>\n",
       "      <th>deathIncrease</th>\n",
       "      <th>hospitalizedIncrease</th>\n",
       "      <th>negativeIncrease</th>\n",
       "      <th>positiveIncrease</th>\n",
       "      <th>totalTestResultsIncrease</th>\n",
       "    </tr>\n",
       "    <tr>\n",
       "      <th>state</th>\n",
       "      <th>date</th>\n",
       "      <th></th>\n",
       "      <th></th>\n",
       "      <th></th>\n",
       "      <th></th>\n",
       "      <th></th>\n",
       "      <th></th>\n",
       "      <th></th>\n",
       "      <th></th>\n",
       "      <th></th>\n",
       "      <th></th>\n",
       "      <th></th>\n",
       "      <th></th>\n",
       "      <th></th>\n",
       "      <th></th>\n",
       "      <th></th>\n",
       "      <th></th>\n",
       "      <th></th>\n",
       "      <th></th>\n",
       "      <th></th>\n",
       "      <th></th>\n",
       "      <th></th>\n",
       "    </tr>\n",
       "  </thead>\n",
       "  <tbody>\n",
       "    <tr>\n",
       "      <td rowspan=\"5\" valign=\"top\">AK</td>\n",
       "      <td>2020-03-06</td>\n",
       "      <td>0.0</td>\n",
       "      <td>8.0</td>\n",
       "      <td>1.0</td>\n",
       "      <td>NaN</td>\n",
       "      <td>NaN</td>\n",
       "      <td>NaN</td>\n",
       "      <td>NaN</td>\n",
       "      <td>NaN</td>\n",
       "      <td>NaN</td>\n",
       "      <td>NaN</td>\n",
       "      <td>...</td>\n",
       "      <td>NaN</td>\n",
       "      <td>9</td>\n",
       "      <td>8</td>\n",
       "      <td>8</td>\n",
       "      <td>2</td>\n",
       "      <td>NaN</td>\n",
       "      <td>NaN</td>\n",
       "      <td>NaN</td>\n",
       "      <td>NaN</td>\n",
       "      <td>NaN</td>\n",
       "    </tr>\n",
       "    <tr>\n",
       "      <td>2020-03-07</td>\n",
       "      <td>0.0</td>\n",
       "      <td>12.0</td>\n",
       "      <td>2.0</td>\n",
       "      <td>NaN</td>\n",
       "      <td>NaN</td>\n",
       "      <td>NaN</td>\n",
       "      <td>NaN</td>\n",
       "      <td>NaN</td>\n",
       "      <td>NaN</td>\n",
       "      <td>NaN</td>\n",
       "      <td>...</td>\n",
       "      <td>NaN</td>\n",
       "      <td>14</td>\n",
       "      <td>12</td>\n",
       "      <td>12</td>\n",
       "      <td>2</td>\n",
       "      <td>0.0</td>\n",
       "      <td>0.0</td>\n",
       "      <td>4.0</td>\n",
       "      <td>0.0</td>\n",
       "      <td>4.0</td>\n",
       "    </tr>\n",
       "    <tr>\n",
       "      <td>2020-03-08</td>\n",
       "      <td>0.0</td>\n",
       "      <td>14.0</td>\n",
       "      <td>6.0</td>\n",
       "      <td>NaN</td>\n",
       "      <td>NaN</td>\n",
       "      <td>NaN</td>\n",
       "      <td>NaN</td>\n",
       "      <td>NaN</td>\n",
       "      <td>NaN</td>\n",
       "      <td>NaN</td>\n",
       "      <td>...</td>\n",
       "      <td>NaN</td>\n",
       "      <td>20</td>\n",
       "      <td>14</td>\n",
       "      <td>14</td>\n",
       "      <td>2</td>\n",
       "      <td>0.0</td>\n",
       "      <td>0.0</td>\n",
       "      <td>2.0</td>\n",
       "      <td>0.0</td>\n",
       "      <td>2.0</td>\n",
       "    </tr>\n",
       "    <tr>\n",
       "      <td>2020-03-09</td>\n",
       "      <td>0.0</td>\n",
       "      <td>23.0</td>\n",
       "      <td>9.0</td>\n",
       "      <td>NaN</td>\n",
       "      <td>NaN</td>\n",
       "      <td>NaN</td>\n",
       "      <td>NaN</td>\n",
       "      <td>NaN</td>\n",
       "      <td>NaN</td>\n",
       "      <td>NaN</td>\n",
       "      <td>...</td>\n",
       "      <td>NaN</td>\n",
       "      <td>32</td>\n",
       "      <td>23</td>\n",
       "      <td>23</td>\n",
       "      <td>2</td>\n",
       "      <td>0.0</td>\n",
       "      <td>0.0</td>\n",
       "      <td>9.0</td>\n",
       "      <td>0.0</td>\n",
       "      <td>9.0</td>\n",
       "    </tr>\n",
       "    <tr>\n",
       "      <td>2020-03-10</td>\n",
       "      <td>0.0</td>\n",
       "      <td>23.0</td>\n",
       "      <td>9.0</td>\n",
       "      <td>NaN</td>\n",
       "      <td>NaN</td>\n",
       "      <td>NaN</td>\n",
       "      <td>NaN</td>\n",
       "      <td>NaN</td>\n",
       "      <td>NaN</td>\n",
       "      <td>NaN</td>\n",
       "      <td>...</td>\n",
       "      <td>NaN</td>\n",
       "      <td>32</td>\n",
       "      <td>23</td>\n",
       "      <td>23</td>\n",
       "      <td>2</td>\n",
       "      <td>0.0</td>\n",
       "      <td>0.0</td>\n",
       "      <td>0.0</td>\n",
       "      <td>0.0</td>\n",
       "      <td>0.0</td>\n",
       "    </tr>\n",
       "  </tbody>\n",
       "</table>\n",
       "<p>5 rows × 25 columns</p>\n",
       "</div>"
      ],
      "text/plain": [
       "                  positive  negative  pending  hospitalizedCurrently  \\\n",
       "state date                                                             \n",
       "AK    2020-03-06       0.0       8.0      1.0                    NaN   \n",
       "      2020-03-07       0.0      12.0      2.0                    NaN   \n",
       "      2020-03-08       0.0      14.0      6.0                    NaN   \n",
       "      2020-03-09       0.0      23.0      9.0                    NaN   \n",
       "      2020-03-10       0.0      23.0      9.0                    NaN   \n",
       "\n",
       "                  hospitalizedCumulative  inIcuCurrently  inIcuCumulative  \\\n",
       "state date                                                                  \n",
       "AK    2020-03-06                     NaN             NaN              NaN   \n",
       "      2020-03-07                     NaN             NaN              NaN   \n",
       "      2020-03-08                     NaN             NaN              NaN   \n",
       "      2020-03-09                     NaN             NaN              NaN   \n",
       "      2020-03-10                     NaN             NaN              NaN   \n",
       "\n",
       "                  onVentilatorCurrently  onVentilatorCumulative  recovered  \\\n",
       "state date                                                                   \n",
       "AK    2020-03-06                    NaN                     NaN        NaN   \n",
       "      2020-03-07                    NaN                     NaN        NaN   \n",
       "      2020-03-08                    NaN                     NaN        NaN   \n",
       "      2020-03-09                    NaN                     NaN        NaN   \n",
       "      2020-03-10                    NaN                     NaN        NaN   \n",
       "\n",
       "                  ... hospitalized total totalTestResults posNeg  fips  \\\n",
       "state date        ...                                                    \n",
       "AK    2020-03-06  ...          NaN     9                8      8     2   \n",
       "      2020-03-07  ...          NaN    14               12     12     2   \n",
       "      2020-03-08  ...          NaN    20               14     14     2   \n",
       "      2020-03-09  ...          NaN    32               23     23     2   \n",
       "      2020-03-10  ...          NaN    32               23     23     2   \n",
       "\n",
       "                  deathIncrease  hospitalizedIncrease  negativeIncrease  \\\n",
       "state date                                                                \n",
       "AK    2020-03-06            NaN                   NaN               NaN   \n",
       "      2020-03-07            0.0                   0.0               4.0   \n",
       "      2020-03-08            0.0                   0.0               2.0   \n",
       "      2020-03-09            0.0                   0.0               9.0   \n",
       "      2020-03-10            0.0                   0.0               0.0   \n",
       "\n",
       "                  positiveIncrease  totalTestResultsIncrease  \n",
       "state date                                                    \n",
       "AK    2020-03-06               NaN                       NaN  \n",
       "      2020-03-07               0.0                       4.0  \n",
       "      2020-03-08               0.0                       2.0  \n",
       "      2020-03-09               0.0                       9.0  \n",
       "      2020-03-10               0.0                       0.0  \n",
       "\n",
       "[5 rows x 25 columns]"
      ]
     },
     "execution_count": 4,
     "metadata": {},
     "output_type": "execute_result"
    }
   ],
   "source": [
    "states.head()"
   ]
  },
  {
   "cell_type": "markdown",
   "metadata": {},
   "source": [
    "#### Clean data with known modifications"
   ]
  },
  {
   "cell_type": "code",
   "execution_count": 5,
   "metadata": {},
   "outputs": [],
   "source": [
    "# Errors in Covidtracking.com\n",
    "states.loc[('WA','2020-04-21'), 'positive'] = 12512\n",
    "states.loc[('WA','2020-04-22'), 'positive'] = 12753 \n",
    "states.loc[('WA','2020-04-23'), 'positive'] = 12753 + 190\n",
    "\n",
    "states.loc[('VA', '2020-04-22'), 'positive'] = 10266\n",
    "states.loc[('VA', '2020-04-23'), 'positive'] = 10988\n",
    "\n",
    "states.loc[('PA', '2020-04-22'), 'positive'] = 35684\n",
    "states.loc[('PA', '2020-04-23'), 'positive'] = 37053\n",
    "\n",
    "states.loc[('MA', '2020-04-20'), 'positive'] = 39643\n",
    "\n",
    "states.loc[('CT', '2020-04-18'), 'positive'] = 17550\n",
    "states.loc[('CT', '2020-04-19'), 'positive'] = 17962\n",
    "\n",
    "states.loc[('HI', '2020-04-22'), 'positive'] = 586\n",
    "\n",
    "states.loc[('RI', '2020-03-07'), 'positive'] = 3"
   ]
  },
  {
   "cell_type": "markdown",
   "metadata": {},
   "source": [
    "#### Integrity Check"
   ]
  },
  {
   "cell_type": "code",
   "execution_count": 6,
   "metadata": {},
   "outputs": [
    {
     "name": "stdout",
     "output_type": "stream",
     "text": [
      "Not all states have updated\n"
     ]
    },
    {
     "data": {
      "text/plain": [
       "state\n",
       "AK   2020-05-18\n",
       "AL   2020-05-18\n",
       "AR   2020-05-18\n",
       "AZ   2020-05-18\n",
       "CA   2020-05-18\n",
       "CO   2020-05-18\n",
       "CT   2020-05-18\n",
       "DC   2020-05-18\n",
       "DE   2020-05-18\n",
       "FL   2020-05-18\n",
       "GA   2020-05-18\n",
       "HI   2020-05-18\n",
       "IA   2020-05-18\n",
       "ID   2020-05-18\n",
       "IL   2020-05-18\n",
       "IN   2020-05-18\n",
       "KS   2020-05-18\n",
       "KY   2020-05-18\n",
       "LA   2020-05-18\n",
       "MA   2020-05-18\n",
       "MD   2020-05-18\n",
       "ME   2020-05-18\n",
       "MI   2020-05-18\n",
       "MN   2020-05-18\n",
       "MO   2020-05-18\n",
       "MS   2020-05-18\n",
       "MT   2020-05-18\n",
       "NC   2020-05-18\n",
       "ND   2020-05-18\n",
       "NE   2020-05-18\n",
       "NH   2020-05-18\n",
       "NJ   2020-05-18\n",
       "NM   2020-05-18\n",
       "NV   2020-05-18\n",
       "NY   2020-05-18\n",
       "OH   2020-05-18\n",
       "OK   2020-05-18\n",
       "OR   2020-05-18\n",
       "PA   2020-05-18\n",
       "RI   2020-05-18\n",
       "SC   2020-05-18\n",
       "SD   2020-05-18\n",
       "TN   2020-05-18\n",
       "TX   2020-05-18\n",
       "UT   2020-05-18\n",
       "VA   2020-05-18\n",
       "VT   2020-05-18\n",
       "WA   2020-05-18\n",
       "WI   2020-05-18\n",
       "WV   2020-05-18\n",
       "WY   2020-05-18\n",
       "Name: date, dtype: datetime64[ns]"
      ]
     },
     "metadata": {},
     "output_type": "display_data"
    },
    {
     "name": "stdout",
     "output_type": "stream",
     "text": [
      "Warning: CO has date with negative case counts\n"
     ]
    },
    {
     "data": {
      "text/plain": [
       "state  date      \n",
       "CO     2020-05-12   -20.0\n",
       "Name: positive, dtype: float64"
      ]
     },
     "metadata": {},
     "output_type": "display_data"
    },
    {
     "name": "stdout",
     "output_type": "stream",
     "text": [
      "Warning: HI has date with negative case counts\n"
     ]
    },
    {
     "data": {
      "text/plain": [
       "state  date      \n",
       "HI     2020-05-15   -1.0\n",
       "Name: positive, dtype: float64"
      ]
     },
     "metadata": {},
     "output_type": "display_data"
    },
    {
     "name": "stdout",
     "output_type": "stream",
     "text": [
      "Warning: MA has date with negative case counts\n"
     ]
    },
    {
     "data": {
      "text/plain": [
       "state  date      \n",
       "MA     2020-04-20   -177.0\n",
       "Name: positive, dtype: float64"
      ]
     },
     "metadata": {},
     "output_type": "display_data"
    },
    {
     "name": "stdout",
     "output_type": "stream",
     "text": [
      "Warning: MT has date with negative case counts\n"
     ]
    },
    {
     "data": {
      "text/plain": [
       "state  date      \n",
       "MT     2020-05-05   -1.0\n",
       "Name: positive, dtype: float64"
      ]
     },
     "metadata": {},
     "output_type": "display_data"
    },
    {
     "name": "stdout",
     "output_type": "stream",
     "text": [
      "Warning: OH has date with negative case counts\n"
     ]
    },
    {
     "data": {
      "text/plain": [
       "state  date      \n",
       "OH     2020-04-27   -264.0\n",
       "Name: positive, dtype: float64"
      ]
     },
     "metadata": {},
     "output_type": "display_data"
    },
    {
     "name": "stdout",
     "output_type": "stream",
     "text": [
      "Warning: VT has date with negative case counts\n"
     ]
    },
    {
     "data": {
      "text/plain": [
       "state  date      \n",
       "VT     2020-05-11   -1.0\n",
       "Name: positive, dtype: float64"
      ]
     },
     "metadata": {},
     "output_type": "display_data"
    },
    {
     "name": "stdout",
     "output_type": "stream",
     "text": [
      "Warning: WA has date with negative case counts\n"
     ]
    },
    {
     "data": {
      "text/plain": [
       "state  date      \n",
       "WA     2020-04-21   -268.0\n",
       "       2020-05-18   -157.0\n",
       "Name: positive, dtype: float64"
      ]
     },
     "metadata": {},
     "output_type": "display_data"
    }
   ],
   "source": [
    "# Make sure that all the states have current data\n",
    "today = datetime.combine(date.today(), datetime.min.time())\n",
    "last_updated = states.reset_index('date').groupby('state')['date'].max()\n",
    "is_current = last_updated < today\n",
    "\n",
    "try:\n",
    "    assert is_current.sum() == 0\n",
    "except AssertionError:\n",
    "    print(\"Not all states have updated\")\n",
    "    display(last_updated[is_current])\n",
    "\n",
    "# Ensure all case diffs are greater than zero\n",
    "for state, grp in states.groupby('state'):\n",
    "    new_cases = grp.positive.diff().dropna()\n",
    "    is_positive = new_cases.ge(0)\n",
    "    \n",
    "    try:\n",
    "        assert is_positive.all()\n",
    "    except AssertionError:\n",
    "        print(f\"Warning: {state} has date with negative case counts\")\n",
    "        display(new_cases[~is_positive])\n",
    "        \n",
    "# Let's make sure that states have added cases\n",
    "idx = pd.IndexSlice\n",
    "assert not states.loc[idx[:, '2020-04-22':'2020-04-23'], 'positive'].groupby('state').diff().dropna().eq(0).any()"
   ]
  },
  {
   "cell_type": "markdown",
   "metadata": {},
   "source": [
    "## Load Patient Information\n",
    "#### Download\n",
    "~100mb download (be ... patient!)"
   ]
  },
  {
   "cell_type": "code",
   "execution_count": 7,
   "metadata": {},
   "outputs": [
    {
     "name": "stdout",
     "output_type": "stream",
     "text": [
      "Already downloaded CSV\n"
     ]
    }
   ],
   "source": [
    "def download_file(url, local_filename):\n",
    "    \"\"\"From https://stackoverflow.com/questions/16694907/\"\"\"\n",
    "    with requests.get(url, stream=True, verify=mitre_cert) as r:\n",
    "        r.raise_for_status()\n",
    "        with open(local_filename, 'wb') as f:\n",
    "            for chunk in r.iter_content(chunk_size=8192): \n",
    "                if chunk: # filter out keep-alive new chunks\n",
    "                    f.write(chunk)\n",
    "    return local_filename\n",
    "\n",
    "\n",
    "URL = \"https://raw.githubusercontent.com/beoutbreakprepared/nCoV2019/master/latest_data/latestdata.csv\"\n",
    "LINELIST_PATH = 'data/linelist.csv'\n",
    "\n",
    "if not os.path.exists(LINELIST_PATH):\n",
    "    print('Downloading file, this will take a while ~100mb')\n",
    "#     try:\n",
    "    download_file(URL, LINELIST_PATH)\n",
    "    clear_output(wait=True)\n",
    "    print('Done downloading.')\n",
    "#     except:\n",
    "#         print('Something went wrong. Try again.')\n",
    "else:\n",
    "    print('Already downloaded CSV')"
   ]
  },
  {
   "cell_type": "code",
   "execution_count": 8,
   "metadata": {},
   "outputs": [
    {
     "name": "stdout",
     "output_type": "stream",
     "text": [
      "successfully retrieved file. Downloading to local.\n"
     ]
    }
   ],
   "source": [
    "#====NOTE - THIS CODE DOES NOT DOWNLOAD THE FILE CORREECTLY.\n",
    "# Try downloading by pinging the url, then extract the tar file to linelist.csv\n",
    "import urllib.request\n",
    "import tarfile\n",
    "URL = \"https://raw.githubusercontent.com/beoutbreakprepared/nCoV2019/master/latest_data/latestdata.tar.gz\"\n",
    "LINELIST_PATH = 'data/linelist.tar.gz'\n",
    "\n",
    "response = requests.get(url, stream=True, verify=mitre_cert)\n",
    "if response.status_code == 200:\n",
    "    print('successfully retrieved file. Downloading to local.')\n",
    "    with open(LINELIST_PATH, 'wb') as f:\n",
    "        f.write(response.raw.read())\n"
   ]
  },
  {
   "cell_type": "markdown",
   "metadata": {},
   "source": [
    "#### Parse & Clean Patient Info"
   ]
  },
  {
   "cell_type": "code",
   "execution_count": 9,
   "metadata": {},
   "outputs": [],
   "source": [
    "# Load the patient CSV\n",
    "patients = pd.read_csv(\n",
    "    'data/linelist.csv',\n",
    "    parse_dates=False,\n",
    "    usecols=[\n",
    "        'date_confirmation',\n",
    "        'date_onset_symptoms'],\n",
    "    low_memory=False)\n",
    "\n",
    "patients.columns = ['Onset', 'Confirmed']\n",
    "\n",
    "# There's an errant reversed date\n",
    "patients = patients.replace('01.31.2020', '31.01.2020')\n",
    "\n",
    "# Only keep if both values are present\n",
    "patients = patients.dropna()\n",
    "\n",
    "# Must have strings that look like individual dates\n",
    "# \"2020.03.09\" is 10 chars long\n",
    "is_ten_char = lambda x: x.str.len().eq(10)\n",
    "patients = patients[is_ten_char(patients.Confirmed) & \n",
    "                    is_ten_char(patients.Onset)]\n",
    "\n",
    "# Convert both to datetimes\n",
    "patients.Confirmed = pd.to_datetime(\n",
    "    patients.Confirmed, format='%d.%m.%Y')\n",
    "patients.Onset = pd.to_datetime(\n",
    "    patients.Onset, format='%d.%m.%Y')\n",
    "\n",
    "patients = patients[patients.Confirmed >= patients.Onset]"
   ]
  },
  {
   "cell_type": "code",
   "execution_count": 10,
   "metadata": {},
   "outputs": [
    {
     "data": {
      "text/html": [
       "<div>\n",
       "<style scoped>\n",
       "    .dataframe tbody tr th:only-of-type {\n",
       "        vertical-align: middle;\n",
       "    }\n",
       "\n",
       "    .dataframe tbody tr th {\n",
       "        vertical-align: top;\n",
       "    }\n",
       "\n",
       "    .dataframe thead th {\n",
       "        text-align: right;\n",
       "    }\n",
       "</style>\n",
       "<table border=\"1\" class=\"dataframe\">\n",
       "  <thead>\n",
       "    <tr style=\"text-align: right;\">\n",
       "      <th></th>\n",
       "      <th>Onset</th>\n",
       "      <th>Confirmed</th>\n",
       "    </tr>\n",
       "  </thead>\n",
       "  <tbody>\n",
       "    <tr>\n",
       "      <td>53</td>\n",
       "      <td>2020-02-08</td>\n",
       "      <td>2020-02-14</td>\n",
       "    </tr>\n",
       "    <tr>\n",
       "      <td>55</td>\n",
       "      <td>2020-02-01</td>\n",
       "      <td>2020-02-13</td>\n",
       "    </tr>\n",
       "    <tr>\n",
       "      <td>335</td>\n",
       "      <td>2020-01-30</td>\n",
       "      <td>2020-02-14</td>\n",
       "    </tr>\n",
       "    <tr>\n",
       "      <td>365</td>\n",
       "      <td>2020-02-14</td>\n",
       "      <td>2020-02-16</td>\n",
       "    </tr>\n",
       "    <tr>\n",
       "      <td>446</td>\n",
       "      <td>2020-02-11</td>\n",
       "      <td>2020-02-15</td>\n",
       "    </tr>\n",
       "  </tbody>\n",
       "</table>\n",
       "</div>"
      ],
      "text/plain": [
       "         Onset  Confirmed\n",
       "53  2020-02-08 2020-02-14\n",
       "55  2020-02-01 2020-02-13\n",
       "335 2020-01-30 2020-02-14\n",
       "365 2020-02-14 2020-02-16\n",
       "446 2020-02-11 2020-02-15"
      ]
     },
     "execution_count": 10,
     "metadata": {},
     "output_type": "execute_result"
    }
   ],
   "source": [
    "patients.head(5)"
   ]
  },
  {
   "cell_type": "markdown",
   "metadata": {},
   "source": [
    "#### Calculate the Probability Distribution of Delay"
   ]
  },
  {
   "cell_type": "code",
   "execution_count": 11,
   "metadata": {},
   "outputs": [
    {
     "data": {
      "image/png": "[encoded data removed]",
      "text/plain": [
       "<Figure size 648x216 with 2 Axes>"
      ]
     },
     "metadata": {
      "image/png": {
       "height": 222,
       "width": 546
      },
      "needs_background": "light"
     },
     "output_type": "display_data"
    }
   ],
   "source": [
    "# Calculate the delta in days between onset and confirmation\n",
    "delay = (patients.Confirmed - patients.Onset).dt.days\n",
    "\n",
    "# Convert samples to an empirical distribution\n",
    "p_delay = delay.value_counts().sort_index()\n",
    "new_range = np.arange(0, p_delay.index.max()+1)\n",
    "p_delay = p_delay.reindex(new_range, fill_value=0)\n",
    "p_delay /= p_delay.sum()\n",
    "\n",
    "# Show our work\n",
    "fig, axes = plt.subplots(ncols=2, figsize=(9,3))\n",
    "p_delay.plot(title='P(Delay)', ax=axes[0])\n",
    "p_delay.cumsum().plot(title='P(Delay <= x)', ax=axes[1])\n",
    "for ax in axes:\n",
    "    ax.set_xlabel('days')"
   ]
  },
  {
   "cell_type": "markdown",
   "metadata": {},
   "source": [
    "### Translate Confirmation Dates to Onset Dates\n",
    "\n",
    "Our goal is to translate positive test counts to the dates where they likely occured. Since we have the distribution, we can distribute case counts back in time according to that distribution. To accomplish this, we reverse the case time series, and convolve it using the distribution of delay from onset to confirmation. Then we reverse the series again to obtain the onset curve. Note that this means the data will be 'right censored' which means there are onset cases that have yet to be reported so it looks as if the count has gone down."
   ]
  },
  {
   "cell_type": "code",
   "execution_count": 12,
   "metadata": {},
   "outputs": [],
   "source": [
    "def confirmed_to_onset(confirmed, p_delay):\n",
    "\n",
    "    assert not confirmed.isna().any()\n",
    "    \n",
    "    # Reverse cases so that we convolve into the past\n",
    "    convolved = np.convolve(confirmed[::-1].values, p_delay)\n",
    "\n",
    "    # Calculate the new date range\n",
    "    dr = pd.date_range(end=confirmed.index[-1],\n",
    "                       periods=len(convolved))\n",
    "\n",
    "    # Flip the values and assign the date range\n",
    "    onset = pd.Series(np.flip(convolved), index=dr)\n",
    "    \n",
    "    return onset"
   ]
  },
  {
   "cell_type": "markdown",
   "metadata": {},
   "source": [
    "### Adjust for Right-Censoring\n",
    "\n",
    "Since we distributed observed cases into the past to recreate the onset curve, we now have a right-censored time series. We can correct for that by asking what % of people have a delay less than or equal to the time between the day in question and the current day.\n",
    "\n",
    "For example, 5 days ago, there might have been 100 cases onset. Over the course of the next 5 days some portion of those cases will be reported. This portion is equal to the cumulative distribution function of our delay distribution. If we know that portion is say, 60%, then our current count of onset on that day represents 60% of the total. This implies that the total is 166% higher. We apply this correction to get an idea of what actual onset cases are likely, thus removing the right censoring."
   ]
  },
  {
   "cell_type": "code",
   "execution_count": 13,
   "metadata": {},
   "outputs": [],
   "source": [
    "def adjust_onset_for_right_censorship(onset, p_delay):\n",
    "    cumulative_p_delay = p_delay.cumsum()\n",
    "    \n",
    "    # Calculate the additional ones needed so shapes match\n",
    "    ones_needed = len(onset) - len(cumulative_p_delay)\n",
    "    padding_shape = (0, ones_needed)\n",
    "    \n",
    "    # Add ones and flip back\n",
    "    cumulative_p_delay = np.pad(\n",
    "        cumulative_p_delay,\n",
    "        padding_shape,\n",
    "        'constant',\n",
    "        constant_values=1)\n",
    "    cumulative_p_delay = np.flip(cumulative_p_delay)\n",
    "    \n",
    "    # Adjusts observed onset values to expected terminal onset values\n",
    "    adjusted = onset / cumulative_p_delay\n",
    "    \n",
    "    return adjusted, cumulative_p_delay\n"
   ]
  },
  {
   "cell_type": "markdown",
   "metadata": {},
   "source": [
    "Take a look at all three series: confirmed, onset and onset adjusted for right censoring."
   ]
  },
  {
   "cell_type": "markdown",
   "metadata": {},
   "source": [
    "Let's have the model run on days where we have enough data ~last 50 or so"
   ]
  },
  {
   "cell_type": "markdown",
   "metadata": {},
   "source": [
    "### Sample the Posterior with PyMC3"
   ]
  },
  {
   "cell_type": "markdown",
   "metadata": {},
   "source": [
    "We assume a poisson likelihood function and feed it what we believe is the onset curve based on reported data. We model this onset curve based on the same math in the previous notebook:\n",
    "\n",
    "$$ I^\\prime = Ie^{\\gamma(R_t-1)} $$\n",
    "\n",
    "We define $\\theta = \\gamma(R_t-1)$ and model $ I^\\prime = Ie^{\\theta} $ where $\\theta$ observes a random walk. We let $\\gamma$ vary independently based on known parameters for the serial interval. Therefore, we can recover $R_t$ easily by $R_t = \\frac{\\theta}{\\gamma}+1$\n",
    "\n",
    "The only tricky part is understanding that we're feeding in _onset_ cases to the likelihood. So $\\mu$ of the poisson is the positive, non-zero, expected onset cases we think we'd see today.\n",
    "\n",
    "We calculate this by figuring out how many cases we'd expect there to be yesterday total when adjusted for bias and plugging it into the first equation above. We then have to re-bias this number back down to get the expected amount of onset cases observed that day."
   ]
  },
  {
   "cell_type": "code",
   "execution_count": 89,
   "metadata": {},
   "outputs": [],
   "source": [
    "class MCMCModel(object):\n",
    "    \n",
    "    def __init__(self, region, onset, cumulative_p_delay, window=50):\n",
    "        \n",
    "        # Just for identification purposes\n",
    "        self.region = region\n",
    "        \n",
    "        # For the model, we'll only look at the last N\n",
    "        self.onset = onset.iloc[-window:]\n",
    "        self.cumulative_p_delay = cumulative_p_delay[-window:]\n",
    "        \n",
    "        # Where we store the results\n",
    "        self.trace = None\n",
    "        self.trace_index = self.onset.index[1:]\n",
    "\n",
    "    def run(self, chains=1, tune=3000, draws=1000, target_accept=.95):\n",
    "\n",
    "        with pm.Model() as model:\n",
    "\n",
    "            # Random walk magnitude\n",
    "            step_size = pm.HalfNormal('step_size', sigma=.03)\n",
    "\n",
    "            # Theta random walk\n",
    "            # Original code could go negative\n",
    "            \"\"\"\n",
    "            theta_raw_init = pm.Normal('theta_raw_init', 0.1, 0.1)\n",
    "            theta_raw_steps = pm.Normal('theta_raw_steps', shape=len(self.onset)-2) * step_size\n",
    "            theta_raw = tt.concatenate([[theta_raw_init], theta_raw_steps])\n",
    "            theta = pm.Deterministic('theta', theta_raw.cumsum())\n",
    "            \"\"\"\n",
    "            # Theta random walk\n",
    "            # New Version\n",
    "            theta_raw_init = pm.Normal('theta_raw_init', 0.1, 0.1)\n",
    "            theta_raw_steps = pm.Normal('theta_raw_steps', shape=len(self.onset)-2) * step_size\n",
    "            theta_raw = tt.concatenate([[theta_raw_init], theta_raw_steps])\n",
    "\n",
    "            # Let the serial interval be a random variable and calculate r_t\n",
    "            serial_interval = pm.Gamma('serial_interval', alpha=6, beta=1.5)\n",
    "            gamma = 1.0 / serial_interval\n",
    "            theta = pm.Deterministic('theta', -gamma+pm.math.abs_(theta_raw.cumsum()+gamma)) #ADDED HERE\n",
    "            r_t = pm.Deterministic('r_t', theta/gamma + 1)\n",
    "\n",
    "            inferred_yesterday = self.onset.values[:-1] / self.cumulative_p_delay[:-1]\n",
    "            \n",
    "            expected_today = inferred_yesterday * self.cumulative_p_delay[1:] * pm.math.exp(theta)\n",
    "\n",
    "            # Ensure cases stay above zero for poisson\n",
    "            mu = pm.math.maximum(.1, expected_today)\n",
    "            observed = self.onset.round().values[1:]\n",
    "            cases = pm.Poisson('cases', mu=mu, observed=observed)\n",
    "\n",
    "            self.trace = pm.sample(\n",
    "                chains=chains,\n",
    "                tune=tune,\n",
    "                draws=draws,\n",
    "                target_accept=target_accept)\n",
    "            \n",
    "            return self"
   ]
  },
  {
   "cell_type": "markdown",
   "metadata": {},
   "source": [
    "### Run Pymc3 Model"
   ]
  },
  {
   "cell_type": "code",
   "execution_count": 15,
   "metadata": {},
   "outputs": [],
   "source": [
    "def df_from_model(model):\n",
    "    \n",
    "    r_t = model.trace['r_t']\n",
    "    mean = np.mean(r_t, axis=0)\n",
    "    median = np.median(r_t, axis=0)\n",
    "    hpd_90 = pm.stats.hpd(r_t, credible_interval=.9)\n",
    "    hpd_50 = pm.stats.hpd(r_t, credible_interval=.5)\n",
    "    \n",
    "    idx = pd.MultiIndex.from_product([\n",
    "            [model.region],\n",
    "            model.trace_index\n",
    "        ], names=['region', 'date'])\n",
    "        \n",
    "    df = pd.DataFrame(data=np.c_[mean, median, hpd_90, hpd_50], index=idx,\n",
    "                 columns=['mean', 'median', 'lower_90', 'upper_90', 'lower_50','upper_50'])\n",
    "    return df\n",
    "\n",
    "def create_and_run_model(name, state):\n",
    "    confirmed = state.positive.diff().dropna()\n",
    "    onset = confirmed_to_onset(confirmed, p_delay)\n",
    "    adjusted, cumulative_p_delay = adjust_onset_for_right_censorship(onset, p_delay)\n",
    "    return MCMCModel(name, onset, cumulative_p_delay).run()"
   ]
  },
  {
   "cell_type": "markdown",
   "metadata": {},
   "source": [
    "#### National"
   ]
  },
  {
   "cell_type": "code",
   "execution_count": 90,
   "metadata": {},
   "outputs": [
    {
     "name": "stderr",
     "output_type": "stream",
     "text": [
      "Auto-assigning NUTS sampler...\n",
      "Initializing NUTS using jitter+adapt_diag...\n",
      "Sequential sampling (1 chains in 1 job)\n",
      "NUTS: [serial_interval, theta_raw_steps, theta_raw_init, step_size]\n",
      "Sampling chain 0, 0 divergences: 100%|██████████| 4000/4000 [00:53<00:00, 74.29it/s] \n",
      "Only one chain was sampled, this makes it impossible to run some convergence checks\n"
     ]
    }
   ],
   "source": [
    "nat_cts = states.groupby('date').sum()\n",
    "nat_cts\n",
    "region = 'United States'\n",
    "nat_model = create_and_run_model(region, nat_cts)\n",
    "nat_res = df_from_model(nat_model)"
   ]
  },
  {
   "cell_type": "code",
   "execution_count": 91,
   "metadata": {},
   "outputs": [],
   "source": [
    "nat_res.to_csv('data/rt_national_test10.csv', index=True)"
   ]
  },
  {
   "cell_type": "code",
   "execution_count": null,
   "metadata": {},
   "outputs": [],
   "source": []
  }
 ],
 "metadata": {
  "kernelspec": {
   "display_name": "Python 3",
   "language": "python",
   "name": "python3"
  },
  "language_info": {
   "codemirror_mode": {
    "name": "ipython",
    "version": 3
   },
   "file_extension": ".py",
   "mimetype": "text/x-python",
   "name": "python",
   "nbconvert_exporter": "python",
   "pygments_lexer": "ipython3",
   "version": "3.7.4"
  }
 },
 "nbformat": 4,
 "nbformat_minor": 4
}
